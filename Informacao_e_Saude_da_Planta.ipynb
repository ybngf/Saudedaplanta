{
  "nbformat": 4,
  "nbformat_minor": 0,
  "metadata": {
    "colab": {
      "provenance": [],
      "authorship_tag": "ABX9TyN8geLskqCkQ4LDkyeVa6kN",
      "include_colab_link": true
    },
    "kernelspec": {
      "name": "python3",
      "display_name": "Python 3"
    },
    "language_info": {
      "name": "python"
    }
  },
  "cells": [
    {
      "cell_type": "markdown",
      "metadata": {
        "id": "view-in-github",
        "colab_type": "text"
      },
      "source": [
        "<a href=\"https://colab.research.google.com/github/ybngf/Saudedaplanta/blob/main/Informacao_e_Saude_da_Planta.ipynb\" target=\"_parent\"><img src=\"https://colab.research.google.com/assets/colab-badge.svg\" alt=\"Open In Colab\"/></a>"
      ]
    },
    {
      "cell_type": "code",
      "source": [
        "!pip install google-generativeai\n",
        "!pip install google-cloud-vision"
      ],
      "metadata": {
        "id": "zgTztJ2hjsy9"
      },
      "execution_count": 22,
      "outputs": []
    },
    {
      "cell_type": "code",
      "source": [
        "#!pip install google-cloud-vision\n",
        "#!pip install google.generativeai\n",
        "\n",
        "from pathlib import Path\n",
        "import hashlib\n",
        "import google.generativeai as genai\n",
        "from google.colab import files\n",
        "\n",
        "from google.colab import userdata\n",
        "GOOGLE_API_KEY=userdata.get('USER_KEY')\n",
        "\n",
        "genai.configure(api_key=GOOGLE_API_KEY)\n",
        "# Set up the model\n",
        "generation_config = {\n",
        "  \"temperature\": 2,\n",
        "  \"top_p\": 0.95,\n",
        "  \"top_k\": 0,\n",
        "  \"max_output_tokens\": 1024,\n",
        "}\n",
        "\n",
        "safety_settings = [\n",
        "  {\n",
        "    \"category\": \"HARM_CATEGORY_HARASSMENT\",\n",
        "    \"threshold\": \"BLOCK_MEDIUM_AND_ABOVE\"\n",
        "  },\n",
        "  {\n",
        "    \"category\": \"HARM_CATEGORY_HATE_SPEECH\",\n",
        "    \"threshold\": \"BLOCK_MEDIUM_AND_ABOVE\"\n",
        "  },\n",
        "  {\n",
        "    \"category\": \"HARM_CATEGORY_SEXUALLY_EXPLICIT\",\n",
        "    \"threshold\": \"BLOCK_MEDIUM_AND_ABOVE\"\n",
        "  },\n",
        "  {\n",
        "    \"category\": \"HARM_CATEGORY_DANGEROUS_CONTENT\",\n",
        "    \"threshold\": \"BLOCK_MEDIUM_AND_ABOVE\"\n",
        "  },\n",
        "]\n",
        "print(\"Envie a foto da sua planta\")\n",
        "model = genai.GenerativeModel(model_name=\"gemini-1.5-pro-latest\",\n",
        "                              generation_config=generation_config,\n",
        "                              safety_settings=safety_settings)\n",
        "def analyze_image(image_path):\n",
        "    # Prepare prompt with uploaded image\n",
        "    prompt_parts = [\n",
        "        \"Qual o nome desta planta? Informe tudo que souber sobre ela, inclusive outros nomes populares e nome cientifico. e compare com imagens de plantas do mesmo tipo em busca de problemas e doenças sugerindo o que deve ser feito para mante-la saudavel. liste dicas importantes para o cultivo. informe em que regiões do brasil ela é mais presente. temperatura ideal para o cultivo, quantidade de sol e agua, sugerir frequencia de rega, epoca de poda, se é invasiva, cultivada ou exotica\\n\\n\",\n",
        "        genai.upload_file(str(image_path)),\n",
        "        \"\\n\",\n",
        "    ]\n",
        "    response = model.generate_content(prompt_parts)\n",
        "    print(f\"Gemini's response: {response.text}\")\n",
        "\n",
        "# Upload image file\n",
        "uploaded = files.upload()\n",
        "\n",
        "# Process the uploaded file\n",
        "for filename in uploaded.keys():\n",
        "    filepath = Path(filename)\n",
        "    analyze_image(filepath)\n"
      ],
      "metadata": {
        "id": "mivpx4PgSvBb"
      },
      "execution_count": null,
      "outputs": []
    }
  ]
}