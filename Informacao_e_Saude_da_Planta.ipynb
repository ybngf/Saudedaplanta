{
  "nbformat": 4,
  "nbformat_minor": 0,
  "metadata": {
    "colab": {
      "provenance": [],
      "authorship_tag": "ABX9TyN5zjXFaiQ7f9GM0PM0WMK1",
      "include_colab_link": true
    },
    "kernelspec": {
      "name": "python3",
      "display_name": "Python 3"
    },
    "language_info": {
      "name": "python"
    }
  },
  "cells": [
    {
      "cell_type": "markdown",
      "metadata": {
        "id": "view-in-github",
        "colab_type": "text"
      },
      "source": [
        "<a href=\"https://colab.research.google.com/github/ybngf/Saudedaplanta/blob/main/Informacao_e_Saude_da_Planta.ipynb\" target=\"_parent\"><img src=\"https://colab.research.google.com/assets/colab-badge.svg\" alt=\"Open In Colab\"/></a>"
      ]
    },
    {
      "cell_type": "code",
      "source": [
        "!pip install -q -U google-generativeai\n",
        "!pip install -q -U google-cloud-vision"
      ],
      "metadata": {
        "id": "zgTztJ2hjsy9",
        "outputId": "2f83a902-b970-4534-be62-e4f7e6e4d6d2",
        "colab": {
          "base_uri": "https://localhost:8080/"
        }
      },
      "execution_count": null,
      "outputs": [
        {
          "output_type": "stream",
          "name": "stdout",
          "text": [
            "\u001b[?25l     \u001b[90m━━━━━━━━━━━━━━━━━━━━━━━━━━━━━━━━━━━━━━━━\u001b[0m \u001b[32m0.0/459.6 kB\u001b[0m \u001b[31m?\u001b[0m eta \u001b[36m-:--:--\u001b[0m\r\u001b[2K     \u001b[91m━━━━━━━━\u001b[0m\u001b[90m╺\u001b[0m\u001b[90m━━━━━━━━━━━━━━━━━━━━━━━━━━━━━━━\u001b[0m \u001b[32m92.2/459.6 kB\u001b[0m \u001b[31m2.5 MB/s\u001b[0m eta \u001b[36m0:00:01\u001b[0m\r\u001b[2K     \u001b[91m━━━━━━━━━━━━━━━━━━━━━━━━━━━━━\u001b[0m\u001b[90m╺\u001b[0m\u001b[90m━━━━━━━━━━\u001b[0m \u001b[32m337.9/459.6 kB\u001b[0m \u001b[31m4.8 MB/s\u001b[0m eta \u001b[36m0:00:01\u001b[0m\r\u001b[2K     \u001b[90m━━━━━━━━━━━━━━━━━━━━━━━━━━━━━━━━━━━━━━━━\u001b[0m \u001b[32m459.6/459.6 kB\u001b[0m \u001b[31m4.1 MB/s\u001b[0m eta \u001b[36m0:00:00\u001b[0m\n",
            "\u001b[?25h"
          ]
        }
      ]
    },
    {
      "cell_type": "code",
      "source": [
        "#!pip install google-cloud-vision\n",
        "#!pip install google.generativeai\n",
        "\n",
        "from pathlib import Path\n",
        "import hashlib\n",
        "import google.generativeai as genai\n",
        "from google.colab import files\n",
        "\n",
        "from google.colab import userdata\n",
        "GOOGLE_API_KEY=userdata.get('USER_KEY')\n",
        "\n",
        "genai.configure(api_key=GOOGLE_API_KEY)\n",
        "# Set up the model\n",
        "generation_config = {\n",
        "  \"temperature\": 2,\n",
        "  \"top_p\": 0.95,\n",
        "  \"top_k\": 0,\n",
        "  \"max_output_tokens\": 1024,\n",
        "}\n",
        "\n",
        "safety_settings = [\n",
        "  {\n",
        "    \"category\": \"HARM_CATEGORY_HARASSMENT\",\n",
        "    \"threshold\": \"BLOCK_MEDIUM_AND_ABOVE\"\n",
        "  },\n",
        "  {\n",
        "    \"category\": \"HARM_CATEGORY_HATE_SPEECH\",\n",
        "    \"threshold\": \"BLOCK_MEDIUM_AND_ABOVE\"\n",
        "  },\n",
        "  {\n",
        "    \"category\": \"HARM_CATEGORY_SEXUALLY_EXPLICIT\",\n",
        "    \"threshold\": \"BLOCK_MEDIUM_AND_ABOVE\"\n",
        "  },\n",
        "  {\n",
        "    \"category\": \"HARM_CATEGORY_DANGEROUS_CONTENT\",\n",
        "    \"threshold\": \"BLOCK_MEDIUM_AND_ABOVE\"\n",
        "  },\n",
        "]\n",
        "print(\"Envie a foto da sua planta\")\n",
        "model = genai.GenerativeModel(model_name=\"gemini-1.5-pro-latest\",\n",
        "                              generation_config=generation_config,\n",
        "                              safety_settings=safety_settings)\n",
        "def analyze_image(image_path):\n",
        "    # Prepare prompt with uploaded image\n",
        "    prompt_parts = [\n",
        "        \"Qual o nome desta planta? Informe tudo que souber sobre ela, inclusive outros nomes populares e nome cientifico. e compare com imagens de plantas do mesmo tipo em busca de problemas e doenças sugerindo o que deve ser feito para mante-la saudavel. liste dicas importantes para o cultivo. informe em que regiões do brasil ela é mais presente. temperatura ideal para o cultivo, quantidade de sol e agua, sugerir frequencia de rega, epoca de poda, se é invasiva, cultivada ou exotica. Verifique se a planta ou partes dela é venenosa para pessoas e animais, caso seja venenenosa, destaque esta informação, listando sintomas e tratamento em caso de ingestão.\\n\\n\",\n",
        "        genai.upload_file(str(image_path)),\n",
        "        \"\\n\",\n",
        "    ]\n",
        "    response = model.generate_content(prompt_parts)\n",
        "    print(f\"Gemini's response: {response.text}\")\n",
        "\n",
        "# Upload image file\n",
        "uploaded = files.upload()\n",
        "\n",
        "# Process the uploaded file\n",
        "for filename in uploaded.keys():\n",
        "    filepath = Path(filename)\n",
        "    analyze_image(filepath)\n"
      ],
      "metadata": {
        "id": "mivpx4PgSvBb"
      },
      "execution_count": null,
      "outputs": []
    }
  ]
}